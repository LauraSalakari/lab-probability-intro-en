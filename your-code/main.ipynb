{
 "cells": [
  {
   "cell_type": "markdown",
   "metadata": {},
   "source": [
    "# Probability"
   ]
  },
  {
   "cell_type": "markdown",
   "metadata": {},
   "source": [
    "## Challenge 1\n",
    "There is a box with 10 white balls, 12 red balls and 8 black balls. Calculate the probability of:\n",
    "* Taking a white ball out.\n",
    "* Taking a white ball on first extraction and a black ball out on second extraction without replacing the first one.\n",
    "* Taking a white ball on first extraction and a black ball out on second extraction replacing the first one.\n",
    "* Taking 3 balls and them being all different colours."
   ]
  },
  {
   "cell_type": "markdown",
   "metadata": {},
   "source": [
    "1. \n",
    "P(W) = 10/30 = 0.333\n",
    "\n",
    "Answer: **0.333**\n",
    "\n",
    "2. \n",
    "P(W) = 10/30\n",
    "\n",
    "P(B|W) = (10/30) * (8/29) = 0.092\n",
    "\n",
    "Answer: **0.092**\n",
    "\n",
    "\n",
    "3. \n",
    "P(W) = 10/30\n",
    "\n",
    "P(B) = 8/30\n",
    "\n",
    "P(W) * P(B) = (10/30) * (8/30) = 0.0889\n",
    "\n",
    "Answer: **0.0889**\n",
    "\n",
    "\n",
    "4. \n",
    "30! / (3! * 27!) = 4060\n",
    "\n",
    "10! / (1! * 9!) = 10\n",
    "\n",
    "12! / (1! * 11!) = 12\n",
    "\n",
    "8! /(1! * 7!) = 8\n",
    "\n",
    "10 * 12 * 8 =960\n",
    "\n",
    "960 / 4060 = 0.236\n",
    "\n",
    "Answer: **0.236**\n"
   ]
  },
  {
   "cell_type": "markdown",
   "metadata": {},
   "source": [
    "## Challenge 2\n",
    "\n",
    "You want to go on picnic on Saturday. You hate rain, and would know to plan your weekend. To help you make a decision, you gather the following data about rainy days:\n",
    "\n",
    "* 40% of all days are cloudy.\n",
    "* About 50% of cloudy days are rainy. \n",
    "* About 20% of non-cloudy days are rainy.\n",
    "\n",
    "What is the chance of rain during next Saturday?"
   ]
  },
  {
   "cell_type": "markdown",
   "metadata": {},
   "source": [
    "P(c) = 0.4\n",
    "P(r|c) = 0.5\n",
    "P(c') = 1 - P(c) = 1 - 0.4 = 0.6\n",
    "P(r|c') = 0.2\n",
    "\n",
    "Chance of rain is chance of cloudy day * chance of rain on a cloudy day plus chance of non-cloudy day times chance of rain on a non-cloudy day\n",
    "0.4 * 0.5 + 0.6 * 0.2 = 0.32\n",
    "\n",
    "Answer: **32%**\n"
   ]
  },
  {
   "cell_type": "markdown",
   "metadata": {},
   "source": [
    "## Challenge 3\n",
    "\n",
    "A and B are events of a probability such that $P(A) = 0.3$, $P(B) = 0.6$ and $P(A \\cap B) = 0.1$\n",
    "\n",
    "Which of the following statements are true?  \n",
    "**HINT: draw a big Venn Diagram by your side**  \n",
    "* $P(\\overline{A}) = 0.7$\n",
    "* $P(A \\cup B) = 0.6$\n",
    "* $P(A \\cap \\overline{B}) = 0.2$\n",
    "* $P(A \\cup \\overline{A}) = 1$  \n",
    "* $P(A \\cap (B \\cup \\overline{B})) = 0.4$\n",
    "* $P(\\overline{A} \\cap \\overline{B}) = 0.3$\n",
    "* $P(\\overline{A \\cap B}) = 0.9$"
   ]
  },
  {
   "cell_type": "markdown",
   "metadata": {},
   "source": [
    "* $P(\\overline{A}) = 0.7$ -> TRUE\n",
    "* $P(A \\cup B) = 0.6$ -> FALSE\n",
    "* $P(A \\cap \\overline{B}) = 0.2$ -> TRUE\n",
    "* $P(A \\cup \\overline{A}) = 1$  -> TRUE\n",
    "* $P(A \\cap (B \\cup \\overline{B})) = 0.4$ -> TRUE\n",
    "* $P(\\overline{A} \\cap \\overline{B}) = 0.3$ -> FALSE\n",
    "* $P(\\overline{A \\cap B}) = 0.9$ -> TRUE"
   ]
  },
  {
   "cell_type": "markdown",
   "metadata": {},
   "source": [
    "## Challenge 4\n",
    "\n",
    " * If someone flies to China, the probability of getting Covid is 1%  \n",
    " * If someone flies to Italy, the probability of getting Covid is 20%  \n",
    "\n",
    "I roll 1 dice with numbers 1, 2, 3, 4, 5, 6:  \n",
    " * If 1: I fly to Italy\n",
    " * If not 1: I fly to China\n",
    "\n",
    "During my trip, I got Covid. What is the probability that I flew to China?"
   ]
  },
  {
   "cell_type": "code",
   "execution_count": 2,
   "metadata": {},
   "outputs": [
    {
     "data": {
      "text/plain": [
       "0.2"
      ]
     },
     "execution_count": 2,
     "metadata": {},
     "output_type": "execute_result"
    }
   ],
   "source": [
    "p_covid = 0.2*(1/6) + 0.01*(5/6)\n",
    "0.01 * (5/6) / p_covid"
   ]
  },
  {
   "cell_type": "markdown",
   "metadata": {},
   "source": [
    "1/6 chance to have gone to Italy -> COVID chance is 0.2\n",
    "\n",
    "P(I) = 1/6\n",
    "P(Covid|I) = 0.2\n",
    "\n",
    "5/6 chance to have flown to China -> COVID chance is 0.01\n",
    "\n",
    "P(C) = 5/6\n",
    "P(Covid|C) = 0.01\n",
    "\n",
    "What we need is probability of having flown to China given Covid: P(C|Covid)\n",
    "\n",
    "P(C|Covid) = (P(Covid|C) * P(C)) / P(Covid)\n",
    "\n",
    "P(Covid) comes from total probability of catching Covid regardless of travel destination:\n",
    "P(Covid) = P(Covid|I)*P(I) + P(Covid|C)*P(C) = 0.2\\*(1/6) + 0.01\\*(5/6) = 0.041667\n",
    "\n",
    "P(C|Covid) = (P(Covid|C) * P(C)) / P(Covid) = (0.01 \\* (5/6) / 0.041667) = 0.2\n",
    "\n",
    "\n",
    "Answer: chance of having flown to China in **20%**\n"
   ]
  },
  {
   "cell_type": "markdown",
   "metadata": {},
   "source": [
    "## BONUS\n",
    "\n",
    "You roll 2 dice. What is the probability that the sum of the numbers is 7? And 8? And 9? Then simulate 10000 times and draw a countplot."
   ]
  },
  {
   "cell_type": "markdown",
   "metadata": {},
   "source": [
    "your explanation here"
   ]
  },
  {
   "cell_type": "code",
   "execution_count": null,
   "metadata": {},
   "outputs": [],
   "source": [
    "# YOUR CODE HERE"
   ]
  }
 ],
 "metadata": {
  "kernelspec": {
   "display_name": "base",
   "language": "python",
   "name": "python3"
  },
  "language_info": {
   "codemirror_mode": {
    "name": "ipython",
    "version": 3
   },
   "file_extension": ".py",
   "mimetype": "text/x-python",
   "name": "python",
   "nbconvert_exporter": "python",
   "pygments_lexer": "ipython3",
   "version": "3.13.5"
  },
  "toc": {
   "base_numbering": 1,
   "nav_menu": {},
   "number_sections": false,
   "sideBar": true,
   "skip_h1_title": false,
   "title_cell": "Table of Contents",
   "title_sidebar": "Contents",
   "toc_cell": false,
   "toc_position": {
    "height": "calc(100% - 180px)",
    "left": "10px",
    "top": "150px",
    "width": "296.475px"
   },
   "toc_section_display": true,
   "toc_window_display": false
  },
  "varInspector": {
   "cols": {
    "lenName": 16,
    "lenType": 16,
    "lenVar": 40
   },
   "kernels_config": {
    "python": {
     "delete_cmd_postfix": "",
     "delete_cmd_prefix": "del ",
     "library": "var_list.py",
     "varRefreshCmd": "print(var_dic_list())"
    },
    "r": {
     "delete_cmd_postfix": ") ",
     "delete_cmd_prefix": "rm(",
     "library": "var_list.r",
     "varRefreshCmd": "cat(var_dic_list()) "
    }
   },
   "types_to_exclude": [
    "module",
    "function",
    "builtin_function_or_method",
    "instance",
    "_Feature"
   ],
   "window_display": false
  }
 },
 "nbformat": 4,
 "nbformat_minor": 2
}
